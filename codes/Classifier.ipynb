{
 "cells": [
  {
   "cell_type": "code",
   "execution_count": 1,
   "id": "05bc752b",
   "metadata": {},
   "outputs": [],
   "source": [
    "import pandas as pd\n",
    "from sklearn.model_selection import train_test_split\n",
    "from sklearn.linear_model import LogisticRegression\n",
    "from sklearn.metrics import accuracy_score\n",
    "\n",
    "# load dataset\n",
    "data = pd.read_csv('/home/nirmala/Documents/precog_requirement_task_analysis&observations/codes/eureka2.csv')\n",
    "\n"
   ]
  },
  {
   "cell_type": "code",
   "execution_count": 2,
   "id": "7911fe6e",
   "metadata": {},
   "outputs": [
    {
     "name": "stdout",
     "output_type": "stream",
     "text": [
      "<class 'pandas.core.frame.DataFrame'>\n",
      "RangeIndex: 288 entries, 0 to 287\n",
      "Data columns (total 13 columns):\n",
      " #   Column              Non-Null Count  Dtype \n",
      "---  ------              --------------  ----- \n",
      " 0   year                288 non-null    int64 \n",
      " 1   state               288 non-null    object\n",
      " 2   dismissed_cases     288 non-null    int64 \n",
      " 3   prison_cases        288 non-null    int64 \n",
      " 4   withdrawal_cases    288 non-null    int64 \n",
      " 5   pending_cases       288 non-null    int64 \n",
      " 6   criminal_cases      288 non-null    int64 \n",
      " 7   non_criminal_cases  288 non-null    int64 \n",
      " 8   total_cases         288 non-null    int64 \n",
      " 9   Special or not      288 non-null    object\n",
      " 10  close_case          288 non-null    int64 \n",
      " 11  reach_court         288 non-null    int64 \n",
      " 12  decison_close       288 non-null    int64 \n",
      "dtypes: int64(11), object(2)\n",
      "memory usage: 29.4+ KB\n"
     ]
    }
   ],
   "source": [
    "data.info()\n",
    "data['non_criminal_cases']=data['non_criminal_cases'].astype(int)\n",
    "data=data.rename(columns={\"Time_taken_to_close_case_after_taking_decision\":\"decision_close\",\"time_taken_to_reach_court_after_filing\":\"reach_court\",\"time_taken_to_close_case_after_filing\":\"close_case\"})"
   ]
  },
  {
   "cell_type": "code",
   "execution_count": 3,
   "id": "8c1986f6",
   "metadata": {},
   "outputs": [],
   "source": [
    "data['state'].replace(to_replace=\"Maharashtra\",value='1', inplace=True)\n",
    "data['state'].replace(to_replace=\"Andhra Pradesh\",value='2' ,inplace=True)\n",
    "data['state'].replace(to_replace=\"Karnataka\",value='3' ,inplace=True)\n",
    "data['state'].replace( to_replace=\"Kerala\",value='4',inplace=True)\n",
    "data['state'].replace(to_replace=\"Himachal Pradesh\",value='5' ,inplace=True)\n",
    "data['state'].replace( to_replace=\"Assam\",value='6',inplace=True)\n",
    "data['state'].replace(to_replace=\"Jharkhand\",value='7', inplace=True)\n",
    "data['state'].replace(to_replace=\"Bihar\",value='8' ,inplace=True)\n",
    "data['state'].replace(to_replace=\"Rajasthan\",value='9' ,inplace=True)\n",
    "data['state'].replace(to_replace=\"Tamilnadu\",value='10' ,inplace=True)\n",
    "data['state'].replace(to_replace=\"Orissa\",value='11',inplace=True)\n",
    "data['state'].replace(to_replace=\"Jammu and kashmir\",value='12' ,inplace=True)\n",
    "data['state'].replace(to_replace=\"Uttar pradesh\",value='13' ,inplace=True)\n",
    "data['state'].replace(to_replace=\"Haryana\",value='14' ,inplace=True)\n",
    "data['state'].replace(to_replace=\"Uttarakhand\",value='15' ,inplace=True)\n",
    "data['state'].replace(to_replace=\"West Bengal\",value='16' ,inplace=True)\n",
    "data['state'].replace(to_replace=\"Gujarath\",value='17' ,inplace=True)\n",
    "data['state'].replace(to_replace=\"Chattisgarh\",value='18' ,inplace=True)\n",
    "data['state'].replace(to_replace=\"Mizoram\",value='19' ,inplace=True)\n",
    "data['state'].replace(to_replace=\"Tripura\",value='20' ,inplace=True)\n",
    "data['state'].replace(to_replace=\"Meghalaya\",value='21' ,inplace=True)\n",
    "data['state'].replace(to_replace=\"Punjab\",value='22' ,inplace=True)\n",
    "data['state'].replace(to_replace=\"Madhya Pradesh\",value='23' ,inplace=True)\n",
    "data['state'].replace(to_replace=\"Sikkim\",value='24' , inplace=True)\n",
    "data['state'].replace(to_replace=\"Manipur\",value='25' ,inplace=True)\n",
    "data['state'].replace(to_replace=\"Delhi\",value='26' ,inplace=True)\n",
    "data['state'].replace(to_replace=\"Chandigarh\",value='27' ,inplace=True)\n",
    "data['state'].replace(to_replace=\"Telangana\",value='29' ,inplace=True)\n",
    "data['state'].replace(to_replace=\"Goa\",value='30' ,inplace=True)\n",
    "data['state'].replace(to_replace=\"Diu and daman\",value='31' ,inplace=True)\n",
    "data['state'].replace(to_replace=\"DNH at silvasa\",value='32',inplace=True)\n",
    "data['state'].replace(to_replace=\"Ladakh\",value='33' ,inplace=True)\n",
    "data['state']=data['state'].astype(int)"
   ]
  },
  {
   "cell_type": "code",
   "execution_count": 4,
   "id": "8026e4a3",
   "metadata": {},
   "outputs": [],
   "source": [
    "data=data.drop(columns=['close_case','reach_court','decison_close'])"
   ]
  },
  {
   "cell_type": "code",
   "execution_count": 5,
   "id": "85a1d468",
   "metadata": {},
   "outputs": [],
   "source": [
    "data2=data\n"
   ]
  },
  {
   "cell_type": "code",
   "execution_count": 6,
   "id": "25edd879",
   "metadata": {},
   "outputs": [],
   "source": [
    "special_dummies=pd.get_dummies(data[\"Special or not\"])"
   ]
  },
  {
   "cell_type": "code",
   "execution_count": 7,
   "id": "7af4ee75",
   "metadata": {},
   "outputs": [],
   "source": [
    "data=pd.concat((data,special_dummies),axis=1)"
   ]
  },
  {
   "cell_type": "code",
   "execution_count": 8,
   "id": "4979cc97",
   "metadata": {},
   "outputs": [
    {
     "data": {
      "text/html": [
       "<div>\n",
       "<style scoped>\n",
       "    .dataframe tbody tr th:only-of-type {\n",
       "        vertical-align: middle;\n",
       "    }\n",
       "\n",
       "    .dataframe tbody tr th {\n",
       "        vertical-align: top;\n",
       "    }\n",
       "\n",
       "    .dataframe thead th {\n",
       "        text-align: right;\n",
       "    }\n",
       "</style>\n",
       "<table border=\"1\" class=\"dataframe\">\n",
       "  <thead>\n",
       "    <tr style=\"text-align: right;\">\n",
       "      <th></th>\n",
       "      <th>year</th>\n",
       "      <th>state</th>\n",
       "      <th>dismissed_cases</th>\n",
       "      <th>prison_cases</th>\n",
       "      <th>withdrawal_cases</th>\n",
       "      <th>pending_cases</th>\n",
       "      <th>criminal_cases</th>\n",
       "      <th>non_criminal_cases</th>\n",
       "      <th>total_cases</th>\n",
       "      <th>Not Special</th>\n",
       "      <th>Special</th>\n",
       "    </tr>\n",
       "  </thead>\n",
       "  <tbody>\n",
       "    <tr>\n",
       "      <th>0</th>\n",
       "      <td>2010</td>\n",
       "      <td>2</td>\n",
       "      <td>27690</td>\n",
       "      <td>0</td>\n",
       "      <td>1332</td>\n",
       "      <td>200</td>\n",
       "      <td>73357</td>\n",
       "      <td>30467</td>\n",
       "      <td>119359</td>\n",
       "      <td>0</td>\n",
       "      <td>1</td>\n",
       "    </tr>\n",
       "    <tr>\n",
       "      <th>1</th>\n",
       "      <td>2011</td>\n",
       "      <td>2</td>\n",
       "      <td>35976</td>\n",
       "      <td>0</td>\n",
       "      <td>1802</td>\n",
       "      <td>5710</td>\n",
       "      <td>94262</td>\n",
       "      <td>46710</td>\n",
       "      <td>158237</td>\n",
       "      <td>0</td>\n",
       "      <td>1</td>\n",
       "    </tr>\n",
       "    <tr>\n",
       "      <th>2</th>\n",
       "      <td>2012</td>\n",
       "      <td>2</td>\n",
       "      <td>40361</td>\n",
       "      <td>0</td>\n",
       "      <td>2068</td>\n",
       "      <td>838</td>\n",
       "      <td>97487</td>\n",
       "      <td>52130</td>\n",
       "      <td>180811</td>\n",
       "      <td>0</td>\n",
       "      <td>1</td>\n",
       "    </tr>\n",
       "    <tr>\n",
       "      <th>3</th>\n",
       "      <td>2013</td>\n",
       "      <td>2</td>\n",
       "      <td>36882</td>\n",
       "      <td>0</td>\n",
       "      <td>2653</td>\n",
       "      <td>1004</td>\n",
       "      <td>111718</td>\n",
       "      <td>71926</td>\n",
       "      <td>195473</td>\n",
       "      <td>0</td>\n",
       "      <td>1</td>\n",
       "    </tr>\n",
       "    <tr>\n",
       "      <th>4</th>\n",
       "      <td>2014</td>\n",
       "      <td>2</td>\n",
       "      <td>11372</td>\n",
       "      <td>0</td>\n",
       "      <td>679</td>\n",
       "      <td>2106</td>\n",
       "      <td>149739</td>\n",
       "      <td>90652</td>\n",
       "      <td>246828</td>\n",
       "      <td>0</td>\n",
       "      <td>1</td>\n",
       "    </tr>\n",
       "    <tr>\n",
       "      <th>...</th>\n",
       "      <td>...</td>\n",
       "      <td>...</td>\n",
       "      <td>...</td>\n",
       "      <td>...</td>\n",
       "      <td>...</td>\n",
       "      <td>...</td>\n",
       "      <td>...</td>\n",
       "      <td>...</td>\n",
       "      <td>...</td>\n",
       "      <td>...</td>\n",
       "      <td>...</td>\n",
       "    </tr>\n",
       "    <tr>\n",
       "      <th>283</th>\n",
       "      <td>2014</td>\n",
       "      <td>16</td>\n",
       "      <td>10629</td>\n",
       "      <td>0</td>\n",
       "      <td>507</td>\n",
       "      <td>7970</td>\n",
       "      <td>109395</td>\n",
       "      <td>64233</td>\n",
       "      <td>254380</td>\n",
       "      <td>0</td>\n",
       "      <td>1</td>\n",
       "    </tr>\n",
       "    <tr>\n",
       "      <th>284</th>\n",
       "      <td>2015</td>\n",
       "      <td>16</td>\n",
       "      <td>20955</td>\n",
       "      <td>19</td>\n",
       "      <td>2560</td>\n",
       "      <td>6027</td>\n",
       "      <td>225335</td>\n",
       "      <td>146027</td>\n",
       "      <td>381017</td>\n",
       "      <td>0</td>\n",
       "      <td>1</td>\n",
       "    </tr>\n",
       "    <tr>\n",
       "      <th>285</th>\n",
       "      <td>2016</td>\n",
       "      <td>16</td>\n",
       "      <td>0</td>\n",
       "      <td>189</td>\n",
       "      <td>0</td>\n",
       "      <td>3207</td>\n",
       "      <td>186727</td>\n",
       "      <td>157430</td>\n",
       "      <td>353949</td>\n",
       "      <td>0</td>\n",
       "      <td>1</td>\n",
       "    </tr>\n",
       "    <tr>\n",
       "      <th>286</th>\n",
       "      <td>2017</td>\n",
       "      <td>16</td>\n",
       "      <td>1</td>\n",
       "      <td>3652</td>\n",
       "      <td>0</td>\n",
       "      <td>0</td>\n",
       "      <td>212715</td>\n",
       "      <td>196775</td>\n",
       "      <td>444120</td>\n",
       "      <td>1</td>\n",
       "      <td>0</td>\n",
       "    </tr>\n",
       "    <tr>\n",
       "      <th>287</th>\n",
       "      <td>2018</td>\n",
       "      <td>16</td>\n",
       "      <td>0</td>\n",
       "      <td>6281</td>\n",
       "      <td>0</td>\n",
       "      <td>0</td>\n",
       "      <td>192433</td>\n",
       "      <td>185322</td>\n",
       "      <td>473084</td>\n",
       "      <td>1</td>\n",
       "      <td>0</td>\n",
       "    </tr>\n",
       "  </tbody>\n",
       "</table>\n",
       "<p>288 rows × 11 columns</p>\n",
       "</div>"
      ],
      "text/plain": [
       "     year  state  dismissed_cases  prison_cases  withdrawal_cases  \\\n",
       "0    2010      2            27690             0              1332   \n",
       "1    2011      2            35976             0              1802   \n",
       "2    2012      2            40361             0              2068   \n",
       "3    2013      2            36882             0              2653   \n",
       "4    2014      2            11372             0               679   \n",
       "..    ...    ...              ...           ...               ...   \n",
       "283  2014     16            10629             0               507   \n",
       "284  2015     16            20955            19              2560   \n",
       "285  2016     16                0           189                 0   \n",
       "286  2017     16                1          3652                 0   \n",
       "287  2018     16                0          6281                 0   \n",
       "\n",
       "     pending_cases  criminal_cases  non_criminal_cases  total_cases  \\\n",
       "0              200           73357               30467       119359   \n",
       "1             5710           94262               46710       158237   \n",
       "2              838           97487               52130       180811   \n",
       "3             1004          111718               71926       195473   \n",
       "4             2106          149739               90652       246828   \n",
       "..             ...             ...                 ...          ...   \n",
       "283           7970          109395               64233       254380   \n",
       "284           6027          225335              146027       381017   \n",
       "285           3207          186727              157430       353949   \n",
       "286              0          212715              196775       444120   \n",
       "287              0          192433              185322       473084   \n",
       "\n",
       "     Not Special  Special  \n",
       "0              0        1  \n",
       "1              0        1  \n",
       "2              0        1  \n",
       "3              0        1  \n",
       "4              0        1  \n",
       "..           ...      ...  \n",
       "283            0        1  \n",
       "284            0        1  \n",
       "285            0        1  \n",
       "286            1        0  \n",
       "287            1        0  \n",
       "\n",
       "[288 rows x 11 columns]"
      ]
     },
     "execution_count": 8,
     "metadata": {},
     "output_type": "execute_result"
    }
   ],
   "source": [
    "data=data.drop(columns=['Special or not'])\n",
    "data\n"
   ]
  },
  {
   "cell_type": "code",
   "execution_count": 9,
   "id": "818b18e3",
   "metadata": {},
   "outputs": [],
   "source": [
    "\n",
    "\n",
    "# select features and target variable\n",
    "X = data.values\n",
    "y = data['Special'].values\n"
   ]
  },
  {
   "cell_type": "markdown",
   "id": "e2352d01",
   "metadata": {},
   "source": [
    "# Logistic Regression"
   ]
  },
  {
   "cell_type": "code",
   "execution_count": 10,
   "id": "a64427e3",
   "metadata": {},
   "outputs": [
    {
     "name": "stdout",
     "output_type": "stream",
     "text": [
      "Accuracy: 0.98\n"
     ]
    },
    {
     "name": "stderr",
     "output_type": "stream",
     "text": [
      "/home/nirmala/.local/lib/python3.8/site-packages/sklearn/linear_model/_logistic.py:458: ConvergenceWarning: lbfgs failed to converge (status=1):\n",
      "STOP: TOTAL NO. of ITERATIONS REACHED LIMIT.\n",
      "\n",
      "Increase the number of iterations (max_iter) or scale the data as shown in:\n",
      "    https://scikit-learn.org/stable/modules/preprocessing.html\n",
      "Please also refer to the documentation for alternative solver options:\n",
      "    https://scikit-learn.org/stable/modules/linear_model.html#logistic-regression\n",
      "  n_iter_i = _check_optimize_result(\n"
     ]
    }
   ],
   "source": [
    "# split data into training and test sets\n",
    "X_train, X_test, y_train, y_test = train_test_split(X, y, test_size=0.3, random_state=0)\n",
    "\n",
    "# train the classifier\n",
    "clf = LogisticRegression()\n",
    "clf.fit(X_train, y_train)\n",
    "\n",
    "# make predictions on the test data\n",
    "y_pred = clf.predict(X_test)\n",
    "\n",
    "# evaluate the classifier's performance\n",
    "acc = accuracy_score(y_test, y_pred)\n",
    "print('Accuracy: {:.2f}'.format(acc))\n"
   ]
  },
  {
   "cell_type": "markdown",
   "id": "fabb9fde",
   "metadata": {},
   "source": [
    "# Build Decision Tree Classifier"
   ]
  },
  {
   "cell_type": "code",
   "execution_count": 11,
   "id": "9a5399c1",
   "metadata": {},
   "outputs": [
    {
     "data": {
      "text/plain": [
       "1.0"
      ]
     },
     "execution_count": 11,
     "metadata": {},
     "output_type": "execute_result"
    }
   ],
   "source": [
    "from sklearn import tree\n",
    "dt_clf=tree.DecisionTreeClassifier(max_depth=5)\n",
    "dt_clf.fit(X_train,y_train)\n",
    "dt_clf.score(X_train,y_train)\n",
    "y_pred=dt_clf.predict(X_test)\n",
    "dt_clf.score(X_test,y_test)"
   ]
  },
  {
   "cell_type": "code",
   "execution_count": 12,
   "id": "7882f308",
   "metadata": {},
   "outputs": [
    {
     "data": {
      "text/plain": [
       "array([[46,  0],\n",
       "       [ 0, 41]])"
      ]
     },
     "execution_count": 12,
     "metadata": {},
     "output_type": "execute_result"
    }
   ],
   "source": [
    "y_pred=dt_clf.predict(X_test)\n",
    "from sklearn.metrics import confusion_matrix\n",
    "confusion_matrix(y_test,y_pred)"
   ]
  },
  {
   "cell_type": "markdown",
   "id": "cca7b071",
   "metadata": {},
   "source": [
    "# Build Random Forest Classifier"
   ]
  },
  {
   "cell_type": "code",
   "execution_count": 13,
   "id": "dbd102d7",
   "metadata": {},
   "outputs": [
    {
     "data": {
      "text/plain": [
       "1.0"
      ]
     },
     "execution_count": 13,
     "metadata": {},
     "output_type": "execute_result"
    }
   ],
   "source": [
    "from sklearn import ensemble\n",
    "rf_clf=ensemble.RandomForestClassifier(n_estimators=100)\n",
    "rf_clf.fit(X_train,y_train)\n",
    "rf_clf.score(X_test,y_test)"
   ]
  },
  {
   "cell_type": "markdown",
   "id": "29ec007e",
   "metadata": {},
   "source": [
    "# Build Gradient Boosting Classifier"
   ]
  },
  {
   "cell_type": "code",
   "execution_count": 25,
   "id": "e75a235b",
   "metadata": {},
   "outputs": [
    {
     "data": {
      "text/plain": [
       "1.0"
      ]
     },
     "execution_count": 25,
     "metadata": {},
     "output_type": "execute_result"
    }
   ],
   "source": [
    "gb_clf=ensemble.GradientBoostingClassifier()\n",
    "gb_clf.fit(X_train,y_train)\n",
    "gb_clf.score(X_test,y_test)"
   ]
  },
  {
   "cell_type": "markdown",
   "id": "c0ded5db",
   "metadata": {},
   "source": [
    "# Tune the GB classifier"
   ]
  },
  {
   "cell_type": "code",
   "execution_count": 15,
   "id": "dad12b79",
   "metadata": {},
   "outputs": [
    {
     "data": {
      "text/plain": [
       "1.0"
      ]
     },
     "execution_count": 15,
     "metadata": {},
     "output_type": "execute_result"
    }
   ],
   "source": [
    "gb_clf=ensemble.GradientBoostingClassifier(n_estimators=40)\n",
    "gb_clf.fit(X_train,y_train)\n",
    "gb_clf.score(X_test,y_test)"
   ]
  },
  {
   "cell_type": "markdown",
   "id": "b391a463",
   "metadata": {},
   "source": [
    "# Build a Naive Bayes Classifier"
   ]
  },
  {
   "cell_type": "code",
   "execution_count": 16,
   "id": "6b5d2ca7",
   "metadata": {},
   "outputs": [
    {
     "data": {
      "text/plain": [
       "0.6436781609195402"
      ]
     },
     "execution_count": 16,
     "metadata": {},
     "output_type": "execute_result"
    }
   ],
   "source": [
    "from sklearn.naive_bayes import GaussianNB\n",
    "nb_clf=GaussianNB()\n",
    "nb_clf.fit(X_train,y_train)\n",
    "nb_clf.score(X_test,y_test)"
   ]
  },
  {
   "cell_type": "markdown",
   "id": "ab5076d5",
   "metadata": {},
   "source": [
    "# Build a LogisticRegression classifier"
   ]
  },
  {
   "cell_type": "code",
   "execution_count": 17,
   "id": "3a5aecbc",
   "metadata": {},
   "outputs": [
    {
     "name": "stderr",
     "output_type": "stream",
     "text": [
      "/home/nirmala/.local/lib/python3.8/site-packages/sklearn/linear_model/_logistic.py:458: ConvergenceWarning: lbfgs failed to converge (status=1):\n",
      "STOP: TOTAL NO. of ITERATIONS REACHED LIMIT.\n",
      "\n",
      "Increase the number of iterations (max_iter) or scale the data as shown in:\n",
      "    https://scikit-learn.org/stable/modules/preprocessing.html\n",
      "Please also refer to the documentation for alternative solver options:\n",
      "    https://scikit-learn.org/stable/modules/linear_model.html#logistic-regression\n",
      "  n_iter_i = _check_optimize_result(\n"
     ]
    },
    {
     "data": {
      "text/plain": [
       "0.9770114942528736"
      ]
     },
     "execution_count": 17,
     "metadata": {},
     "output_type": "execute_result"
    }
   ],
   "source": [
    "from sklearn.linear_model import LogisticRegression\n",
    "lr_clf=LogisticRegression()\n",
    "lr_clf.fit(X_train,y_train)\n",
    "lr_clf.score(X_test,y_test)"
   ]
  },
  {
   "cell_type": "markdown",
   "id": "9f94b1e2",
   "metadata": {},
   "source": [
    "# Build a K-Nearest Neighbour Classifier"
   ]
  },
  {
   "cell_type": "code",
   "execution_count": 18,
   "id": "2a5d1182",
   "metadata": {},
   "outputs": [
    {
     "data": {
      "text/plain": [
       "0.8160919540229885"
      ]
     },
     "execution_count": 18,
     "metadata": {},
     "output_type": "execute_result"
    }
   ],
   "source": [
    "from sklearn.neighbors import KNeighborsClassifier\n",
    "knn_clf=KNeighborsClassifier(n_neighbors=3)\n",
    "knn_clf.fit(X_train,y_train)\n",
    "knn_clf.score(X_test,y_test)"
   ]
  },
  {
   "cell_type": "markdown",
   "id": "c713287b",
   "metadata": {},
   "source": [
    "# Build a SVM Classifier"
   ]
  },
  {
   "cell_type": "code",
   "execution_count": 19,
   "id": "80d901fc",
   "metadata": {},
   "outputs": [
    {
     "data": {
      "text/plain": [
       "1.0"
      ]
     },
     "execution_count": 19,
     "metadata": {},
     "output_type": "execute_result"
    }
   ],
   "source": [
    "from sklearn.svm import SVC\n",
    "sv_clf=SVC(probability=True,kernel='linear')\n",
    "sv_clf.fit(X_test,y_test)\n",
    "sv_clf.score(X_test,y_test)"
   ]
  },
  {
   "cell_type": "markdown",
   "id": "438c6a40",
   "metadata": {},
   "source": [
    "# Prediction Probabilities"
   ]
  },
  {
   "cell_type": "code",
   "execution_count": 20,
   "id": "fef26de7",
   "metadata": {},
   "outputs": [],
   "source": [
    "r_probs=[0 for _ in range(len(y_test))]\n",
    "rf_probs=rf_clf.predict_proba(X_test)\n",
    "nb_probs=nb_clf.predict_proba(X_test)\n",
    "dt_probs=dt_clf.predict_proba(X_test)\n",
    "gb_probs=gb_clf.predict_proba(X_test)\n",
    "knn_probs=knn_clf.predict_proba(X_test)\n",
    "lr_probs=lr_clf.predict_proba(X_test)\n",
    "sv_probs=sv_clf.predict_proba(X_test)"
   ]
  },
  {
   "cell_type": "markdown",
   "id": "e826f7f6",
   "metadata": {},
   "source": [
    "# Probabilities for positive outcomes is kept"
   ]
  },
  {
   "cell_type": "code",
   "execution_count": 21,
   "id": "7b4c7d36",
   "metadata": {},
   "outputs": [],
   "source": [
    "rf_probs=rf_probs[:,1]\n",
    "nb_probs=nb_probs[:,1]\n",
    "dt_probs=dt_probs[:,1]\n",
    "gb_probs=gb_probs[:,1]\n",
    "knn_probs=knn_probs[:,1]\n",
    "lr_probs=lr_probs[:,1]\n",
    "sv_probs=sv_probs[:,1]"
   ]
  },
  {
   "cell_type": "markdown",
   "id": "b4e718b8",
   "metadata": {},
   "source": [
    "# Compute the AUROC values"
   ]
  },
  {
   "cell_type": "code",
   "execution_count": 22,
   "id": "4478c344",
   "metadata": {},
   "outputs": [],
   "source": [
    "from sklearn.metrics import roc_curve,roc_auc_score\n",
    "r_auc=roc_auc_score(y_test,r_probs)\n",
    "rf_auc=roc_auc_score(y_test,rf_probs)\n",
    "nb_auc=roc_auc_score(y_test,nb_probs)\n",
    "dt_auc=roc_auc_score(y_test,dt_probs)\n",
    "gb_auc=roc_auc_score(y_test,gb_probs)\n",
    "knn_auc=roc_auc_score(y_test,knn_probs)\n",
    "lr_auc=roc_auc_score(y_test,lr_probs)\n",
    "sv_auc=roc_auc_score(y_test,sv_probs)"
   ]
  },
  {
   "cell_type": "markdown",
   "id": "b2d0046a",
   "metadata": {},
   "source": [
    "# Display the AUROC scores"
   ]
  },
  {
   "cell_type": "code",
   "execution_count": 23,
   "id": "7c2876e3",
   "metadata": {},
   "outputs": [
    {
     "name": "stdout",
     "output_type": "stream",
     "text": [
      "Random prediction: AUROC=0.500\n",
      "Random Forest: AUROC=1.000\n",
      "Naive Bayes: AUROC=0.729\n",
      "Decision tree prediction: AUROC=1.000\n",
      "Gradient Boosting prediction: AUROC=1.000\n",
      "KNearest prediction: AUROC=0.889\n",
      "Logistic Regression: AUROC=0.969\n",
      "Support Vector Machine: AUROC=1.000\n"
     ]
    }
   ],
   "source": [
    "print(\"Random prediction: AUROC=%.3f\"%(r_auc))\n",
    "print(\"Random Forest: AUROC=%.3f\"%(rf_auc))\n",
    "print(\"Naive Bayes: AUROC=%.3f\"%(nb_auc))\n",
    "print(\"Decision tree prediction: AUROC=%.3f\"%(dt_auc))\n",
    "print(\"Gradient Boosting prediction: AUROC=%.3f\"%(gb_auc))\n",
    "print(\"KNearest prediction: AUROC=%.3f\"%(knn_auc))\n",
    "print(\"Logistic Regression: AUROC=%.3f\"%(lr_auc))\n",
    "print(\"Support Vector Machine: AUROC=%.3f\"%(sv_auc))"
   ]
  },
  {
   "cell_type": "markdown",
   "id": "005b9cf1",
   "metadata": {},
   "source": [
    "# Calculate the ROC Curve"
   ]
  },
  {
   "cell_type": "code",
   "execution_count": 29,
   "id": "4bf6650a",
   "metadata": {},
   "outputs": [],
   "source": [
    "r_fpr,r_tpr, _ =roc_curve(y_test,r_probs)\n",
    "rf_fpr,rf_tpr, _ =roc_curve(y_test,rf_probs)\n",
    "nb_fpr,nb_tpr, _ =roc_curve(y_test,nb_probs)\n",
    "dt_fpr,dt_tpr, _ =roc_curve(y_test,dt_probs)\n",
    "gb_fpr,gb_tpr, _ =roc_curve(y_test,gb_probs)\n",
    "knn_fpr,knn_tpr ,_ =roc_curve(y_test,knn_probs)\n",
    "lr_fpr,lr_tpr, _ =roc_curve(y_test,lr_probs)\n",
    "sv_fpr,sv_tpr, _ =roc_curve(y_test,sv_probs)"
   ]
  },
  {
   "cell_type": "code",
   "execution_count": 35,
   "id": "f741b288",
   "metadata": {},
   "outputs": [
    {
     "data": {
      "image/png": "[encoded data removed]",
      "text/plain": [
       "<Figure size 1500x1000 with 1 Axes>"
      ]
     },
     "metadata": {},
     "output_type": "display_data"
    }
   ],
   "source": [
    "import matplotlib.pyplot as plt\n",
    "plt.figure(figsize=(15,10))\n",
    "plt.plot(r_fpr,r_tpr,linestyle='--',label='Random Prediction (AUROC=%0.3F)'%r_auc)\n",
    "plt.plot(rf_fpr,rf_tpr,linestyle='--',label='Random Forest (AUROC=%0.3F)'%rf_auc)\n",
    "plt.plot(nb_fpr,nb_tpr,linestyle='--',label='Naive Bayes (AUROC=%0.3F)'%nb_auc)\n",
    "plt.plot(dt_fpr,dt_tpr,linestyle='--',label='Decision tress (AUROC=%0.3F)'%dt_auc)\n",
    "plt.plot(gb_fpr,gb_tpr,linestyle='--',label='Gradient Boosting (AUROC=%0.3F)'%gb_auc)\n",
    "plt.plot(knn_fpr,knn_tpr,linestyle='--',label='K-Nearest Neighbours(AUROC=%0.3F)'%knn_auc)\n",
    "plt.plot(lr_fpr,lr_tpr,linestyle='--',label='Logistic Regression(AUROC=%0.3F)'%lr_auc)\n",
    "plt.plot(sv_fpr,sv_tpr,linestyle='--',label='Support Vector Machine(AUROC=%0.3F)'%sv_auc)\n",
    "\n",
    "plt.title('ROC Plot')\n",
    "\n",
    "plt.xlabel('False Positive Rate')\n",
    "plt.ylabel('True Positive Rate')\n",
    "\n",
    "plt.legend()\n",
    "plt.savefig('AUROC SCORE', facecolor=(.94, .94, .94))\n",
    "\n",
    "plt.show()\n"
   ]
  },
  {
   "cell_type": "code",
   "execution_count": 32,
   "id": "31bf892a",
   "metadata": {},
   "outputs": [
    {
     "data": {
      "text/plain": [
       "<Figure size 640x480 with 0 Axes>"
      ]
     },
     "metadata": {},
     "output_type": "display_data"
    }
   ],
   "source": []
  }
 ],
 "metadata": {
  "kernelspec": {
   "display_name": "Python 3 (ipykernel)",
   "language": "python",
   "name": "python3"
  },
  "language_info": {
   "codemirror_mode": {
    "name": "ipython",
    "version": 3
   },
   "file_extension": ".py",
   "mimetype": "text/x-python",
   "name": "python",
   "nbconvert_exporter": "python",
   "pygments_lexer": "ipython3",
   "version": "3.8.10"
  }
 },
 "nbformat": 4,
 "nbformat_minor": 5
}
