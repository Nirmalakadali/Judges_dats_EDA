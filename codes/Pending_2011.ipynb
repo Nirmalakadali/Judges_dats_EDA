{
 "cells": [
  {
   "cell_type": "code",
   "execution_count": 1,
   "id": "ed329907",
   "metadata": {},
   "outputs": [
    {
     "name": "stderr",
     "output_type": "stream",
     "text": [
      "Setting default log level to \"WARN\".\n",
      "To adjust logging level use sc.setLogLevel(newLevel). For SparkR, use setLogLevel(newLevel).\n"
     ]
    },
    {
     "name": "stdout",
     "output_type": "stream",
     "text": [
      "23/01/08 23:18:46 WARN NativeCodeLoader: Unable to load native-hadoop library for your platform... using builtin-java classes where applicable\n",
      "23/01/08 23:18:47 WARN Utils: Service 'SparkUI' could not bind on port 4040. Attempting port 4041.\n"
     ]
    }
   ],
   "source": [
    "from pyspark import SparkContext\n",
    "from pyspark.sql import SparkSession\n",
    "import pandas as pd\n",
    "spark = SparkSession.builder \\\n",
    "    .appName('Read CSV File into DataFrame') \\\n",
    "    .config('spark.executor.memory', '8g') \\\n",
    "    .config('spark.driver.memory', '8g') \\\n",
    "    .getOrCreate()\n",
    "# spark = SparkSession.builder.appName('Read CSV File into DataFrame').getOrCreate()\n",
    "from pyspark.sql.functions import col\n",
    "\n",
    "# Load the data into a DataFrame\n",
    "df1=spark.read.csv(\"/home/nirmala/Documents/precog_requirement_task/cases/cases/cases_2011.csv\" ,header=True)"
   ]
  },
  {
   "cell_type": "code",
   "execution_count": 2,
   "id": "faf2031f",
   "metadata": {},
   "outputs": [
    {
     "data": {
      "text/plain": [
       "DataFrame[ddl_case_id: string, year: string, state_code: string, dist_code: string, court_no: string, cino: string, judge_position: string, female_defendant: string, female_petitioner: string, female_adv_def: string, female_adv_pet: string, type_name: string, purpose_name: string, disp_name: string, date_of_filing: string, date_of_decision: string, date_first_list: string, date_last_list: string, date_next_list: string]"
      ]
     },
     "execution_count": 2,
     "metadata": {},
     "output_type": "execute_result"
    }
   ],
   "source": [
    "df1"
   ]
  },
  {
   "cell_type": "code",
   "execution_count": 3,
   "id": "653ccad6",
   "metadata": {},
   "outputs": [],
   "source": [
    "df1 = df1.drop(col(\"dist_code\"))\n",
    "df1 = df1.drop(col(\"ddl_case_id\"))\n",
    "df1 = df1.drop(col(\"court_no\"))\n",
    "df1 = df1.drop(col(\"cino\"))\n",
    "df1 = df1.drop(col(\"judge_position\"))\n",
    "df1 = df1.drop(col(\"female_defendant\"))\n",
    "df1 = df1.drop(col(\"female_petitioner\"))\n",
    "df1 = df1.drop(col(\"female_adv_def\"))\n",
    "df1 = df1.drop(col(\"female_adv_pet\"))\n",
    "df1 = df1.drop(col(\"type_name\"))\n",
    "df1 = df1.drop(col(\"purpose_name\"))\n",
    "df1 = df1.drop(col(\"disp_name\"))\n",
    "df1 = df1.drop(col(\"date_last_list\"))\n",
    "df1 = df1.drop(col(\"date_first_list\"))\n"
   ]
  },
  {
   "cell_type": "code",
   "execution_count": 4,
   "id": "74016d6c",
   "metadata": {},
   "outputs": [
    {
     "data": {
      "text/plain": [
       "DataFrame[year: string, state_code: string, date_of_filing: string, date_of_decision: string, date_next_list: string]"
      ]
     },
     "execution_count": 4,
     "metadata": {},
     "output_type": "execute_result"
    }
   ],
   "source": [
    "df1"
   ]
  },
  {
   "cell_type": "code",
   "execution_count": null,
   "id": "c4c09a67",
   "metadata": {},
   "outputs": [
    {
     "name": "stderr",
     "output_type": "stream",
     "text": [
      "\r",
      "[Stage 1:>                                                          (0 + 8) / 8]\r"
     ]
    }
   ],
   "source": [
    "df = df1.toPandas()"
   ]
  },
  {
   "cell_type": "code",
   "execution_count": null,
   "id": "8914d4bf",
   "metadata": {},
   "outputs": [],
   "source": [
    "df['date_of_filing'] = pd.to_datetime(df['date_of_filing'], format='%Y-%m-%d',errors = 'coerce') \n",
    "\n",
    "\n",
    "df['date_of_decision'] = pd.to_datetime(df['date_of_decision'], format='%Y-%m-%d',errors = 'coerce') \n",
    "\n",
    "df['date_next_list'] = pd.to_datetime(df['date_next_list'], format='%Y-%m-%d',errors = 'coerce') \n",
    "\n"
   ]
  },
  {
   "cell_type": "code",
   "execution_count": null,
   "id": "c6be15e3",
   "metadata": {},
   "outputs": [],
   "source": [
    "# df['file_end'] =(df['date_next_list']-df['date_of_filing']).dt.year\n",
    "df"
   ]
  },
  {
   "cell_type": "code",
   "execution_count": null,
   "id": "a42cba00",
   "metadata": {},
   "outputs": [],
   "source": [
    "df['closing'] = df['date_next_list'].dt.year\n",
    "df['filing'] = df['date_of_filing'].dt.year\n"
   ]
  },
  {
   "cell_type": "code",
   "execution_count": null,
   "id": "a18706a0",
   "metadata": {},
   "outputs": [],
   "source": [
    "df=df.drop(columns=['date_of_filing','date_of_decision','date_next_list'])"
   ]
  },
  {
   "cell_type": "code",
   "execution_count": null,
   "id": "92cbd727",
   "metadata": {},
   "outputs": [],
   "source": [
    "df['closing']=df['closing'].fillna('1900')\n"
   ]
  },
  {
   "cell_type": "code",
   "execution_count": null,
   "id": "290aee59",
   "metadata": {},
   "outputs": [],
   "source": [
    "df['state_code']=df['state_code'].astype(int)\n",
    "df['closing']=df['closing'].astype(int)\n",
    "df['filing']=df['filing'].astype(int)"
   ]
  },
  {
   "cell_type": "code",
   "execution_count": null,
   "id": "1f0cd341",
   "metadata": {},
   "outputs": [],
   "source": [
    "df"
   ]
  },
  {
   "cell_type": "code",
   "execution_count": null,
   "id": "6228e5ac",
   "metadata": {},
   "outputs": [],
   "source": [
    "df.info()"
   ]
  },
  {
   "cell_type": "code",
   "execution_count": null,
   "id": "3104a7ee",
   "metadata": {},
   "outputs": [],
   "source": [
    "df = df[~df['closing'].isin([2010,2011,2012,2013,2014,2015,2016,2017,2018])]\n"
   ]
  },
  {
   "cell_type": "code",
   "execution_count": null,
   "id": "7958e165",
   "metadata": {},
   "outputs": [],
   "source": [
    "df"
   ]
  },
  {
   "cell_type": "code",
   "execution_count": null,
   "id": "0f593790",
   "metadata": {},
   "outputs": [],
   "source": [
    "df['pending_years']=df['closing']-df['filing']"
   ]
  },
  {
   "cell_type": "code",
   "execution_count": null,
   "id": "e58be663",
   "metadata": {},
   "outputs": [],
   "source": [
    "df\n"
   ]
  },
  {
   "cell_type": "code",
   "execution_count": null,
   "id": "8dcb3b73",
   "metadata": {},
   "outputs": [],
   "source": [
    "df['filing'].unique()"
   ]
  },
  {
   "cell_type": "code",
   "execution_count": null,
   "id": "e543b948",
   "metadata": {},
   "outputs": [],
   "source": [
    "df=df.drop(columns=['filing','closing'])"
   ]
  },
  {
   "cell_type": "code",
   "execution_count": null,
   "id": "5908e9de",
   "metadata": {},
   "outputs": [],
   "source": [
    "df"
   ]
  },
  {
   "cell_type": "code",
   "execution_count": null,
   "id": "9d7ab766",
   "metadata": {},
   "outputs": [],
   "source": []
  },
  {
   "cell_type": "code",
   "execution_count": null,
   "id": "4e8e10d1",
   "metadata": {},
   "outputs": [],
   "source": []
  }
 ],
 "metadata": {
  "kernelspec": {
   "display_name": "Python 3 (ipykernel)",
   "language": "python",
   "name": "python3"
  },
  "language_info": {
   "codemirror_mode": {
    "name": "ipython",
    "version": 3
   },
   "file_extension": ".py",
   "mimetype": "text/x-python",
   "name": "python",
   "nbconvert_exporter": "python",
   "pygments_lexer": "ipython3",
   "version": "3.8.10"
  }
 },
 "nbformat": 4,
 "nbformat_minor": 5
}
