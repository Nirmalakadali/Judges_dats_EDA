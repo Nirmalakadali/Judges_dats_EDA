{
 "cells": [
  {
   "cell_type": "code",
   "execution_count": 1,
   "id": "059a1014",
   "metadata": {},
   "outputs": [],
   "source": [
    "import pandas as pd"
   ]
  },
  {
   "cell_type": "code",
   "execution_count": 2,
   "id": "40dca6e5",
   "metadata": {},
   "outputs": [],
   "source": [
    "df0=pd.read_csv('/home/nirmala/timing2010.csv')"
   ]
  },
  {
   "cell_type": "code",
   "execution_count": 3,
   "id": "130d1ef4",
   "metadata": {},
   "outputs": [],
   "source": [
    "df1=pd.read_csv('/home/nirmala/timing2011.csv')"
   ]
  },
  {
   "cell_type": "code",
   "execution_count": 4,
   "id": "f0ac744c",
   "metadata": {},
   "outputs": [],
   "source": [
    "df2=pd.read_csv('/home/nirmala/timing2012.csv')"
   ]
  },
  {
   "cell_type": "code",
   "execution_count": 5,
   "id": "5ca724e1",
   "metadata": {},
   "outputs": [],
   "source": [
    "df3=pd.read_csv('/home/nirmala/timing2013.csv')"
   ]
  },
  {
   "cell_type": "code",
   "execution_count": 6,
   "id": "ee974eb7",
   "metadata": {},
   "outputs": [],
   "source": [
    "df4=pd.read_csv('/home/nirmala/timing2014.csv')"
   ]
  },
  {
   "cell_type": "code",
   "execution_count": 7,
   "id": "5d452ea0",
   "metadata": {},
   "outputs": [],
   "source": [
    "df5=pd.read_csv('/home/nirmala/timing2015.csv')"
   ]
  },
  {
   "cell_type": "code",
   "execution_count": 8,
   "id": "41c742f4",
   "metadata": {},
   "outputs": [],
   "source": [
    "df6=pd.read_csv('/home/nirmala/timing2016.csv')"
   ]
  },
  {
   "cell_type": "code",
   "execution_count": 9,
   "id": "14eb2b4e",
   "metadata": {},
   "outputs": [],
   "source": [
    "df7=pd.read_csv('/home/nirmala/timing2017.csv')"
   ]
  },
  {
   "cell_type": "code",
   "execution_count": 10,
   "id": "2b247ded",
   "metadata": {},
   "outputs": [],
   "source": [
    "df8=pd.read_csv('/home/nirmala/timing2018.csv')"
   ]
  },
  {
   "cell_type": "code",
   "execution_count": 11,
   "id": "df89c522",
   "metadata": {},
   "outputs": [],
   "source": [
    "df=pd.concat([df0,df1])\n",
    "df=pd.concat([df,df2])\n",
    "df=pd.concat([df,df3])\n",
    "df=pd.concat([df,df4])\n",
    "df=pd.concat([df,df5])\n",
    "df=pd.concat([df,df6])\n",
    "df=pd.concat([df,df7])\n",
    "df=pd.concat([df,df8])"
   ]
  },
  {
   "cell_type": "code",
   "execution_count": 14,
   "id": "a8a199f4",
   "metadata": {},
   "outputs": [
    {
     "data": {
      "text/html": [
       "<div>\n",
       "<style scoped>\n",
       "    .dataframe tbody tr th:only-of-type {\n",
       "        vertical-align: middle;\n",
       "    }\n",
       "\n",
       "    .dataframe tbody tr th {\n",
       "        vertical-align: top;\n",
       "    }\n",
       "\n",
       "    .dataframe thead th {\n",
       "        text-align: right;\n",
       "    }\n",
       "</style>\n",
       "<table border=\"1\" class=\"dataframe\">\n",
       "  <thead>\n",
       "    <tr style=\"text-align: right;\">\n",
       "      <th></th>\n",
       "      <th>state_code</th>\n",
       "      <th>file_closing_days</th>\n",
       "      <th>file_reach_days</th>\n",
       "      <th>decide_close_days</th>\n",
       "      <th>Year</th>\n",
       "    </tr>\n",
       "  </thead>\n",
       "  <tbody>\n",
       "    <tr>\n",
       "      <th>0</th>\n",
       "      <td>Andhra Pradesh</td>\n",
       "      <td>1000.340859</td>\n",
       "      <td>404.308270</td>\n",
       "      <td>0.423684</td>\n",
       "      <td>2010</td>\n",
       "    </tr>\n",
       "    <tr>\n",
       "      <th>1</th>\n",
       "      <td>Assam</td>\n",
       "      <td>0.000000</td>\n",
       "      <td>0.000000</td>\n",
       "      <td>0.000000</td>\n",
       "      <td>2010</td>\n",
       "    </tr>\n",
       "    <tr>\n",
       "      <th>2</th>\n",
       "      <td>Bihar</td>\n",
       "      <td>0.000000</td>\n",
       "      <td>0.000000</td>\n",
       "      <td>0.000000</td>\n",
       "      <td>2010</td>\n",
       "    </tr>\n",
       "    <tr>\n",
       "      <th>3</th>\n",
       "      <td>Chandigarh</td>\n",
       "      <td>0.000000</td>\n",
       "      <td>0.000000</td>\n",
       "      <td>0.000000</td>\n",
       "      <td>2010</td>\n",
       "    </tr>\n",
       "    <tr>\n",
       "      <th>4</th>\n",
       "      <td>Chattisgarh</td>\n",
       "      <td>0.000000</td>\n",
       "      <td>0.000000</td>\n",
       "      <td>0.000000</td>\n",
       "      <td>2010</td>\n",
       "    </tr>\n",
       "    <tr>\n",
       "      <th>...</th>\n",
       "      <td>...</td>\n",
       "      <td>...</td>\n",
       "      <td>...</td>\n",
       "      <td>...</td>\n",
       "      <td>...</td>\n",
       "    </tr>\n",
       "    <tr>\n",
       "      <th>27</th>\n",
       "      <td>Telangana</td>\n",
       "      <td>97.387049</td>\n",
       "      <td>44.757250</td>\n",
       "      <td>0.295233</td>\n",
       "      <td>2018</td>\n",
       "    </tr>\n",
       "    <tr>\n",
       "      <th>28</th>\n",
       "      <td>Tripura</td>\n",
       "      <td>150.772764</td>\n",
       "      <td>40.976632</td>\n",
       "      <td>0.245770</td>\n",
       "      <td>2018</td>\n",
       "    </tr>\n",
       "    <tr>\n",
       "      <th>29</th>\n",
       "      <td>Uttar pradesh</td>\n",
       "      <td>69.019989</td>\n",
       "      <td>20.760331</td>\n",
       "      <td>2.170473</td>\n",
       "      <td>2018</td>\n",
       "    </tr>\n",
       "    <tr>\n",
       "      <th>30</th>\n",
       "      <td>Uttarakhand</td>\n",
       "      <td>92.552775</td>\n",
       "      <td>30.921476</td>\n",
       "      <td>0.303449</td>\n",
       "      <td>2018</td>\n",
       "    </tr>\n",
       "    <tr>\n",
       "      <th>31</th>\n",
       "      <td>West Bengal</td>\n",
       "      <td>92.027731</td>\n",
       "      <td>17.358586</td>\n",
       "      <td>0.607467</td>\n",
       "      <td>2018</td>\n",
       "    </tr>\n",
       "  </tbody>\n",
       "</table>\n",
       "<p>260 rows × 5 columns</p>\n",
       "</div>"
      ],
      "text/plain": [
       "        state_code  file_closing_days  file_reach_days  decide_close_days  \\\n",
       "0   Andhra Pradesh        1000.340859       404.308270           0.423684   \n",
       "1            Assam           0.000000         0.000000           0.000000   \n",
       "2            Bihar           0.000000         0.000000           0.000000   \n",
       "3       Chandigarh           0.000000         0.000000           0.000000   \n",
       "4      Chattisgarh           0.000000         0.000000           0.000000   \n",
       "..             ...                ...              ...                ...   \n",
       "27       Telangana          97.387049        44.757250           0.295233   \n",
       "28         Tripura         150.772764        40.976632           0.245770   \n",
       "29   Uttar pradesh          69.019989        20.760331           2.170473   \n",
       "30     Uttarakhand          92.552775        30.921476           0.303449   \n",
       "31     West Bengal          92.027731        17.358586           0.607467   \n",
       "\n",
       "    Year  \n",
       "0   2010  \n",
       "1   2010  \n",
       "2   2010  \n",
       "3   2010  \n",
       "4   2010  \n",
       "..   ...  \n",
       "27  2018  \n",
       "28  2018  \n",
       "29  2018  \n",
       "30  2018  \n",
       "31  2018  \n",
       "\n",
       "[260 rows x 5 columns]"
      ]
     },
     "execution_count": 14,
     "metadata": {},
     "output_type": "execute_result"
    }
   ],
   "source": [
    "df"
   ]
  },
  {
   "cell_type": "code",
   "execution_count": 13,
   "id": "87220f94",
   "metadata": {},
   "outputs": [],
   "source": [
    "df=df.drop(columns=\"Unnamed: 0\")"
   ]
  },
  {
   "cell_type": "code",
   "execution_count": 15,
   "id": "d532dbd4",
   "metadata": {},
   "outputs": [],
   "source": [
    "df.to_csv('timing_final.csv', index=False)\n",
    "df.to_csv('timing_final_copy_after_filter.csv', index=False)\n"
   ]
  },
  {
   "cell_type": "code",
   "execution_count": null,
   "id": "b18a0ca4",
   "metadata": {},
   "outputs": [],
   "source": []
  }
 ],
 "metadata": {
  "kernelspec": {
   "display_name": "Python 3 (ipykernel)",
   "language": "python",
   "name": "python3"
  },
  "language_info": {
   "codemirror_mode": {
    "name": "ipython",
    "version": 3
   },
   "file_extension": ".py",
   "mimetype": "text/x-python",
   "name": "python",
   "nbconvert_exporter": "python",
   "pygments_lexer": "ipython3",
   "version": "3.8.10"
  }
 },
 "nbformat": 4,
 "nbformat_minor": 5
}
